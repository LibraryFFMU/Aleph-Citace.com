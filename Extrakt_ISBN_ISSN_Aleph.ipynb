{
 "cells": [
  {
   "cell_type": "markdown",
   "metadata": {},
   "source": [
    "# Dolování ISBN a ISSN z Alephu"
   ]
  },
  {
   "cell_type": "markdown",
   "metadata": {},
   "source": [
    "ISBN a ISSN jsou v ALephu součástí BIB záznamu - https://knowledge.exlibrisgroup.com/Aleph/Knowledge_Articles/How_to_export_the_BIB_record_from_Aleph\n",
    "\n",
    "\n",
    "Jednotlivé záznamy v exportu se ve smyčce procházejí - budeme hledat:\n",
    "- controlfield tag=\"001 - sysno\n",
    "- datafield 020 - podpole a - ISBN\n",
    "- datafield 022 - podpole a - ISSN \n",
    "- datafield 245 - podpole a - hlavní název"
   ]
  },
  {
   "cell_type": "code",
   "execution_count": 1,
   "metadata": {},
   "outputs": [],
   "source": [
    "import re\n",
    "import pandas as pd"
   ]
  },
  {
   "cell_type": "code",
   "execution_count": 2,
   "metadata": {},
   "outputs": [],
   "source": [
    "with open('msweep-export-all_plný.txt', 'r', encoding=\"utf8\", errors=\"ignore\") as f:\n",
    "    data = f.read()\n"
   ]
  },
  {
   "cell_type": "code",
   "execution_count": 5,
   "metadata": {
    "collapsed": true
   },
   "outputs": [
    {
     "name": "stdout",
     "output_type": "stream",
     "text": [
      "00000cam-a22-----7a-4500</leader>\n",
      "    <controlfield tag='001'>000000011</controlfield>\n",
      "    <controlfield tag='003'>CZ-BrMU</controlfield>\n",
      "    <controlfield tag='005'>20151029083923.0</controlfield>\n",
      "    <controlfield tag='008'>021119s2002----xr-|||||-|||||||||||cze-d</controlfield>\n",
      "    <datafield tag='015' ind1='' ind2=''>\n",
      "      <subfield code='a'>cnb001181661</subfield>\n",
      "    </datafield>\n",
      "    <datafield tag='020' ind1='' ind2=''>\n",
      "      <subfield code='a'>80-86515-15-X</subfield>\n",
      "    </datafield>\n",
      "    <datafield tag='040' ind1='' ind2=''>\n",
      "      <subfield code='a'>BOD001</subfield>\n",
      "      <subfield code='b'>cze</subfield>\n",
      "      <subfield code='d'>BOD114</subfield>\n",
      "    </datafield>\n",
      "    <datafield tag='072' ind1='' ind2='7'>\n",
      "      <subfield code='a'>94(437)</subfield>\n",
      "      <subfield code='x'>Dějiny Česka a Slovenska</subfield>\n",
      "      <subfield code='2'>Konspekt</subfield>\n",
      "      <subfield code='9'>8</subfield>\n",
      "    </datafield>\n",
      "    <datafield tag='100' ind1='1' ind2=''>\n",
      "      <subfield code='a'>Šarochová, Gabriela V.,</subfield>\n",
      "      <subfield code='d'>1968-</subfield>\n",
      "      <subfield code='7'>xx0003676</subfield>\n",
      "      <subfield code='4'>aut</subfield>\n",
      "    </datafield>\n",
      "    <datafield tag='245' ind1='1' ind2='0'>\n",
      "      <subfield code='a'>1.9.1310 - Eliška Přemyslovna a Jan Lucemburský :</subfield>\n",
      "      <subfield code='b'>sňatek z rozumu /</subfield>\n",
      "      <subfield code='c'>Gabriela V. Šarochová</subfield>\n",
      "    </datafield>\n",
      "    <datafield tag='246' ind1='3' ind2='2'>\n",
      "      <subfield code='a'>Eliška Přemyslovna a Jan Lucemburský :</subfield>\n",
      "      <subfield code='b'>sňatek z rozumu</subfield>\n",
      "    </datafield>\n",
      "    <datafield tag='250' ind1='' ind2=''>\n",
      "      <subfield code='a'>Vyd. 1.</subfield>\n",
      "    </datafield>\n",
      "    <datafield tag='260' ind1='' ind2=''>\n",
      "      <subfield code='a'>Praha :</subfield>\n",
      "      <subfield code='b'>Havran,</subfield>\n",
      "      <subfield code='c'>2002</subfield>\n",
      "    </datafield>\n",
      "    <datafield tag='300' ind1='' ind2=''>\n",
      "      <subfield code='a'>163 s.</subfield>\n",
      "    </datafield>\n",
      "    <datafield tag='490' ind1='1' ind2=''>\n",
      "      <subfield code='a'>Dny, které tvořily české dějiny ;</subfield>\n",
      "      <subfield code='v'>sv. 4</subfield>\n",
      "    </datafield>\n",
      "    <datafield tag='648' ind1='' ind2='7'>\n",
      "      <subfield code='a'>14. století</subfield>\n",
      "      <subfield code='7'>ch460552</subfield>\n",
      "      <subfield code='2'>czenas</subfield>\n",
      "    </datafield>\n",
      "    <datafield tag='650' ind1='0' ind2='7'>\n",
      "      <subfield code='a'>panovníci</subfield>\n",
      "      <subfield code='7'>ph117250</subfield>\n",
      "      <subfield code='z'>Česko</subfield>\n",
      "      <subfield code='y'>14. století</subfield>\n",
      "      <subfield code='2'>czenas</subfield>\n",
      "    </datafield>\n",
      "    <datafield tag='650' ind1='0' ind2='9'>\n",
      "      <subfield code='a'>kings and rulers</subfield>\n",
      "      <subfield code='2'>eczenas</subfield>\n",
      "    </datafield>\n",
      "    <datafield tag='651' ind1='' ind2='7'>\n",
      "      <subfield code='a'>Česko</subfield>\n",
      "      <subfield code='7'>ge128065</subfield>\n",
      "      <subfield code='x'>dějiny</subfield>\n",
      "      <subfield code='y'>14. století</subfield>\n",
      "      <subfield code='2'>czenas</subfield>\n",
      "    </datafield>\n",
      "    <datafield tag='651' ind1='' ind2='9'>\n",
      "      <subfield code='a'>Czechia</subfield>\n",
      "      <subfield code='x'>history</subfield>\n",
      "      <subfield code='y'>14th century</subfield>\n",
      "      <subfield code='2'>eczenas</subfield>\n",
      "    </datafield>\n",
      "    <datafield tag='655' ind1='' ind2='7'>\n",
      "      <subfield code='a'>studie</subfield>\n",
      "      <subfield code='7'>fd133597</subfield>\n",
      "      <subfield code='2'>czenas</subfield>\n",
      "    </datafield>\n",
      "    <datafield tag='655' ind1='' ind2='9'>\n",
      "      <subfield code='a'>studies</subfield>\n",
      "      <subfield code='2'>eczenas</subfield>\n",
      "    </datafield>\n",
      "    <datafield tag='830' ind1='' ind2='0'>\n",
      "      <subfield code='a'>Dny, které tvořily české dějiny ;</subfield>\n",
      "      <subfield code='v'>sv. 4</subfield>\n",
      "    </datafield>\n",
      "    <datafield tag='LOW' ind1='' ind2=''>\n",
      "      <subfield code='a'>POSLANO DO SKCR</subfield>\n",
      "      <subfield code='b'>2008-10-08</subfield>\n",
      "    </datafield>\n",
      "    <datafield tag='M54' ind1='' ind2=''>\n",
      "      <subfield code='a'>943.71</subfield>\n",
      "    </datafield>\n",
      "  \n"
     ]
    }
   ],
   "source": [
    "#zobrazení prvního záznamu, re.DOTALL umožní srovnání vzoru s víceřádkovým rozpětím\n",
    "zaznamy = re.findall(\"<record.+?>(.+?)</record>\", data, re.DOTALL)\n",
    "print(zaznamy[10])"
   ]
  },
  {
   "cell_type": "code",
   "execution_count": 4,
   "metadata": {},
   "outputs": [
    {
     "name": "stdout",
     "output_type": "stream",
     "text": [
      "['000000011']\n"
     ]
    }
   ],
   "source": [
    "#kontrola sysna\n",
    "sysno = re.findall(\"<controlfield tag='001'>(\\d+)</controlfield>\", zaznamy[10])\n",
    "print(sysno)"
   ]
  },
  {
   "cell_type": "code",
   "execution_count": 9,
   "metadata": {},
   "outputs": [
    {
     "name": "stdout",
     "output_type": "stream",
     "text": [
      "['80-86515-15-X']\n"
     ]
    }
   ],
   "source": [
    "#kontrola ISBN\n",
    "ISBN = re.findall(\"<datafield tag='020'.+?<subfield code='a'>(.+?)</subfield>\", zaznamy[10], re.DOTALL )\n",
    "print(ISBN)"
   ]
  },
  {
   "cell_type": "code",
   "execution_count": null,
   "metadata": {},
   "outputs": [],
   "source": [
    "#kontrola ISSN\n",
    "ISSN = re.findall(\"datafield tag='022'.+?<subfield code='a'>(.+?)</subfield>\", zaznamy[10], re.DOTALL)\n",
    "print(ISSN)"
   ]
  },
  {
   "cell_type": "code",
   "execution_count": null,
   "metadata": {},
   "outputs": [],
   "source": [
    "#kontrola názvu\n",
    "nazev = re.findall(\"<datafield tag='245'.+?<subfield code='a'>(.+?)</subfield>\", zaznamy[10], re.DOTALL)\n",
    "print(nazev[0])"
   ]
  },
  {
   "cell_type": "code",
   "execution_count": null,
   "metadata": {},
   "outputs": [],
   "source": [
    "sloupce=[\"sysno\", \"ISBN\", \"ISSN\", \"nazev\"]\n",
    "zaznamy_aleph = pd.DataFrame(columns = sloupce)\n",
    "zaznamy_aleph.head()"
   ]
  },
  {
   "cell_type": "code",
   "execution_count": null,
   "metadata": {},
   "outputs": [],
   "source": [
    "i = 0\n",
    "for zaznam in zaznamy:\n",
    "    sysno = re.search(\"<controlfield tag='001'>(\\d+)</controlfield>\", zaznam, re.DOTALL)\n",
    "    if sysno == None:\n",
    "        sysno = \"\"\n",
    "    else:\n",
    "        sysno = sysno.group(1)\n",
    "    \n",
    "    ISBN = re.search(\"<datafield tag='020'.+?<subfield code='a'>((?:[0-9]{3}-)?[0-9]{1,5}-[0-9]{1,7}-[0-9]{1,6}-[0-9])</subfield>\", zaznam)\n",
    "    if ISBN == None:\n",
    "        ISBN = \"\"\n",
    "    else:\n",
    "        ISBN = ISBN.group(1)\n",
    "    \n",
    "    ISSN = re.search(\"datafield tag='022'.+?<subfield code='a'>([\\S]{4}\\-[\\S]{4})</subfield>\", zaznam)\n",
    "    if ISSN == None:\n",
    "        ISSN = \"\"\n",
    "    else:\n",
    "        ISSN = ISSN.group(1)\n",
    "    \n",
    "    nazev = re.search(\"<datafield tag='245'.+?<subfield code='a'>(.+?)</subfield>\", zaznam)\n",
    "    if nazev == None:\n",
    "        nazev = \"\"\n",
    "    else:\n",
    "        nazev = nazev.group(1)\n",
    "    \n",
    "    vysledek = {\"sysno\": sysno, \"ISBN\": ISBN, \"ISSN\" : ISSN, \"nazev\": nazev}\n",
    "    zaznamy_aleph = zaznamy_aleph.append(vysledek, ignore_index=True)\n"
   ]
  },
  {
   "cell_type": "code",
   "execution_count": null,
   "metadata": {},
   "outputs": [],
   "source": [
    "zaznamy_aleph.to_csv(\"Záznamy_aleph.csv\", index=False)\n",
    "zaznamy_aleph.to_excel(\"Záznam_aleph.xlsx\")"
   ]
  },
  {
   "cell_type": "code",
   "execution_count": null,
   "metadata": {},
   "outputs": [],
   "source": [
    "#kontrola výstupu, vytvoření dataframu pro další práci\n",
    "df=pd.read_csv(\"Záznamy_aleph.csv\", dtype = str)\n",
    "df.head()"
   ]
  },
  {
   "cell_type": "markdown",
   "metadata": {},
   "source": [
    "# Soubor s ISBN"
   ]
  },
  {
   "cell_type": "code",
   "execution_count": null,
   "metadata": {},
   "outputs": [],
   "source": [
    "#vytvoření datafrmamu pro ISBN záznamy - mažeme \"-\" a \"978\"\n",
    "ISBN = df.loc[df['ISBN'].notnull()]\n",
    "ISBN['norma'] = ISBN['ISBN'].str.replace('-','').str.replace(r'^978', '')\n",
    "\n",
    "# #vybíráme pouze 10 nebo 13 znaků\n",
    "ISBN_clear =ISBN[ISBN.norma.apply(lambda x: len(str(x))== 10 or (len(str(x))== 13 and x.startswith('979')))]\n",
    "# del ISBN_clear[\"type\"]\n",
    " \n",
    "# #mažeme poslední znak    \n",
    "ISBN_clear['norma'] = ISBN_clear.norma.str[:-1]\n",
    "ISBN_clear.drop(ISBN_clear[ISBN_clear[\"norma\"]==\"000000000\"].index, inplace=True)\n",
    "\n",
    "# #deduplikace\n",
    "ISBN_clear.drop_duplicates(subset=[\"norma\",\"nazev\"], keep=\"first\", inplace=True)\n",
    "ISBN_clear.rename(columns={\"id\" : \"isbn\"}, inplace=True)\n",
    "#ISBN_clear.head()\n",
    "\n",
    "ISBN_aleph= ISBN_clear[[\"sysno\", \"ISBN\", \"nazev\", \"norma\"]]\n",
    "# #ISBN_clear.to_csv('ISBN_2022_FF.csv', encoding='utf-8', index=False)\n",
    "# #ISBN_clear.info()\n",
    "# ISBN_clear.info()\n",
    "\n",
    "ISBN_aleph.head()\n",
    "ISBN_aleph.to_csv(\"ISBN_aleph.csv\", index=False)"
   ]
  },
  {
   "cell_type": "markdown",
   "metadata": {},
   "source": [
    "# Soubor s ISSN"
   ]
  },
  {
   "cell_type": "code",
   "execution_count": null,
   "metadata": {},
   "outputs": [],
   "source": [
    "ISSN = df.loc[df['ISSN'].notnull()]\n",
    "ISSN.head()"
   ]
  },
  {
   "cell_type": "code",
   "execution_count": null,
   "metadata": {},
   "outputs": [],
   "source": [
    "ISSN['norma'] = ISSN['ISSN'].str.replace('-','')\n",
    "ISSN.drop_duplicates(subset=[\"norma\",\"nazev\"], keep=\"first\", inplace=True)\n",
    "\n",
    "ISSN_aleph= ISSN[[\"sysno\", \"ISSN\", \"nazev\", \"norma\"]]\n",
    "# discovery_ISSN[\"zdroj\"]= \"discovery\"\n",
    "ISSN_aleph.head()\n",
    "\n",
    "ISSN_aleph.to_csv(\"ISSN_aleph.csv\", index=False)"
   ]
  },
  {
   "cell_type": "code",
   "execution_count": null,
   "metadata": {},
   "outputs": [],
   "source": []
  }
 ],
 "metadata": {
  "kernelspec": {
   "display_name": "Python 3 (ipykernel)",
   "language": "python",
   "name": "python3"
  },
  "language_info": {
   "codemirror_mode": {
    "name": "ipython",
    "version": 3
   },
   "file_extension": ".py",
   "mimetype": "text/x-python",
   "name": "python",
   "nbconvert_exporter": "python",
   "pygments_lexer": "ipython3",
   "version": "3.9.13"
  }
 },
 "nbformat": 4,
 "nbformat_minor": 2
}
